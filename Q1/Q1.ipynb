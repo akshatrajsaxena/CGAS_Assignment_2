{
 "cells": [
  {
   "cell_type": "code",
   "execution_count": 4,
   "metadata": {},
   "outputs": [],
   "source": [
    "import pandas as pd\n",
    "from mlxtend.frequent_patterns import apriori\n",
    "from mlxtend.preprocessing import TransactionEncoder\n",
    "recipe_data = pd.read_csv('recipe_data.csv')\n",
    "transactions = recipe_data.groupby('ID')['Ingredient Name'].apply(list).tolist()"
   ]
  },
  {
   "cell_type": "code",
   "execution_count": 5,
   "metadata": {},
   "outputs": [],
   "source": [
    "te = TransactionEncoder()\n",
    "te_ary = te.fit(transactions).transform(transactions)\n",
    "df = pd.DataFrame(te_ary, columns=te.columns_)\n",
    "frequent_itemsets = apriori(df, min_support=0.01, use_colnames=True, max_len=3)\n",
    "itemsets_size_1 = frequent_itemsets[frequent_itemsets['itemsets'].apply(lambda x: len(x) == 1)]\n",
    "itemsets_size_2 = frequent_itemsets[frequent_itemsets['itemsets'].apply(lambda x: len(x) == 2)]\n",
    "itemsets_size_3 = frequent_itemsets[frequent_itemsets['itemsets'].apply(lambda x: len(x) == 3)]\n",
    "itemsets_size_1.to_csv('itemsets_size_1.csv', index=False)\n",
    "itemsets_size_2.to_csv('itemsets_size_2.csv', index=False)\n",
    "itemsets_size_3.to_csv('itemsets_size_3.csv', index=False)"
   ]
  },
  {
   "cell_type": "code",
   "execution_count": 6,
   "metadata": {},
   "outputs": [
    {
     "name": "stdout",
     "output_type": "stream",
     "text": [
      "Top 20 itemsets for size 1 based on support value\n",
      "      support               itemsets\n",
      "104  0.361991                 (salt)\n",
      "114  0.356350                (sugar)\n",
      "22   0.308679               (butter)\n",
      "81   0.252820                (onion)\n",
      "54   0.239902               (garlic)\n",
      "93   0.226710               (pepper)\n",
      "126  0.219887                (water)\n",
      "1    0.215338  (all - purpose flour)\n",
      "79   0.189320            (olive oil)\n",
      "53   0.175946                 (eggs)\n",
      "73   0.155659                 (milk)\n",
      "105  0.148563          (salt pepper)\n",
      "122  0.121998      (vanilla extract)\n",
      "123  0.112082        (vegetable oil)\n",
      "52   0.108079                  (egg)\n",
      "38   0.101892             (cinnamon)\n",
      "31   0.086063              (chicken)\n",
      "7    0.077784        (baking powder)\n",
      "67   0.077056          (lemon juice)\n",
      "55   0.075328        (garlic powder)\n",
      "Top 20 itemsets for size 2 based on support value\n",
      "      support                       itemsets\n",
      "595  0.166485                  (sugar, salt)\n",
      "259  0.150564                (sugar, butter)\n",
      "160  0.136918    (salt, all - purpose flour)\n",
      "163  0.136463   (sugar, all - purpose flour)\n",
      "256  0.133370                 (salt, butter)\n",
      "574  0.133279                 (salt, pepper)\n",
      "137  0.132460  (all - purpose flour, butter)\n",
      "425  0.118177                (garlic, onion)\n",
      "616  0.103712       (sugar, vanilla extract)\n",
      "412  0.102893                  (sugar, eggs)\n",
      "424  0.102620            (garlic, olive oil)\n",
      "526  0.097980                (onion, pepper)\n",
      "620  0.096980                 (sugar, water)\n",
      "530  0.096889                  (salt, onion)\n",
      "431  0.094432               (garlic, pepper)\n",
      "602  0.093432                  (water, salt)\n",
      "409  0.091430                   (salt, eggs)\n",
      "437  0.089884                 (garlic, salt)\n",
      "237  0.085153                 (eggs, butter)\n",
      "149  0.084061    (eggs, all - purpose flour)\n",
      "Top 20 itemsets for size 3 based on support value\n",
      "       support                                       itemsets\n",
      "716   0.097707             (sugar, salt, all - purpose flour)\n",
      "667   0.093250           (sugar, all - purpose flour, butter)\n",
      "664   0.083060            (salt, all - purpose flour, butter)\n",
      "863   0.082151                          (sugar, salt, butter)\n",
      "866   0.068777               (vanilla extract, sugar, butter)\n",
      "693   0.068504             (sugar, eggs, all - purpose flour)\n",
      "987   0.065684                            (sugar, salt, eggs)\n",
      "834   0.064592                          (sugar, eggs, butter)\n",
      "721   0.063774  (sugar, vanilla extract, all - purpose flour)\n",
      "1100  0.063228                          (salt, onion, pepper)\n",
      "1130  0.062773                 (sugar, salt, vanilla extract)\n",
      "640   0.060590    (sugar, baking powder, all - purpose flour)\n",
      "692   0.060499              (salt, eggs, all - purpose flour)\n",
      "992   0.058133                 (vanilla extract, eggs, sugar)\n",
      "639   0.054494     (salt, baking powder, all - purpose flour)\n",
      "1036  0.054312                         (garlic, salt, pepper)\n",
      "657   0.053493            (eggs, all - purpose flour, butter)\n",
      "756   0.052220                   (sugar, salt, baking powder)\n",
      "1017  0.051310                        (garlic, onion, pepper)\n",
      "717   0.050036   (vanilla extract, salt, all - purpose flour)\n"
     ]
    }
   ],
   "source": [
    "print('Top 20 itemsets for size 1 based on support value')\n",
    "print(itemsets_size_1.nlargest(20, 'support'))\n",
    "print('Top 20 itemsets for size 2 based on support value')\n",
    "print(itemsets_size_2.nlargest(20, 'support'))\n",
    "print('Top 20 itemsets for size 3 based on support value')\n",
    "print(itemsets_size_3.nlargest(20, 'support'))"
   ]
  },
  {
   "cell_type": "code",
   "execution_count": 7,
   "metadata": {},
   "outputs": [],
   "source": [
    "top_20_size_1 = itemsets_size_1.nlargest(20, 'support')\n",
    "top_20_size_2 = itemsets_size_2.nlargest(20, 'support')\n",
    "top_20_size_3 = itemsets_size_3.nlargest(20, 'support')\n",
    "top_20_size_1.to_csv('top_20_itemsets_size_1.csv', index=False)\n",
    "top_20_size_2.to_csv('top_20_itemsets_size_2.csv', index=False)\n",
    "top_20_size_3.to_csv('top_20_itemsets_size_3.csv', index=False)"
   ]
  },
  {
   "cell_type": "markdown",
   "metadata": {},
   "source": [
    "Support:\n",
    "\n",
    "1. Indicates the Popularity of an Itemset:\n",
    "\n",
    "    Support measures how often a particular item or itemset appears in the dataset. A higher support value indicates that the itemset occurs frequently, making it more relevant in frequent itemset mining (FISM).\n",
    "\n",
    "2. Threshold for Frequent Itemsets:\n",
    "\n",
    "    Support identifies the frequent itemsets. Itemsets with support greater than or equal to a given minimum support threshold are considered to be more frequent.\n",
    "### **Support**:\n",
    "\n",
    "$$\n",
    "\\text{Support}(X) = \\frac{\\text{Number of recipes containing itemset } X}{\\text{Total number of recipes}}\n",
    "$$\n"
   ]
  },
  {
   "cell_type": "markdown",
   "metadata": {},
   "source": [
    "Confidence:\n",
    "\n",
    "1. Measures the Strength of an Association Rule:\n",
    "\n",
    "    Confidence measures how strong the association rule X→Y is. A high confidence value means that when item X is present, item Y is likely to also be present in the same recipe.\n",
    "\n",
    "2. Helps in Decision Making:\n",
    "\n",
    "    Confidence helps in evaluating the usefulness and reliability of the rules generated by frequent itemset mining. Rules with high confidence are more actionable for decision-making.\n",
    "### **Confidence**:\n",
    "$$\n",
    "\\text{Confidence}(X \\rightarrow Y) = \\frac{\\text{Support}(X \\cup Y)}{\\text{Support}(X)}\n",
    "$$\n"
   ]
  }
 ],
 "metadata": {
  "kernelspec": {
   "display_name": "Python 3",
   "language": "python",
   "name": "python3"
  },
  "language_info": {
   "codemirror_mode": {
    "name": "ipython",
    "version": 3
   },
   "file_extension": ".py",
   "mimetype": "text/x-python",
   "name": "python",
   "nbconvert_exporter": "python",
   "pygments_lexer": "ipython3",
   "version": "3.12.2"
  }
 },
 "nbformat": 4,
 "nbformat_minor": 2
}
